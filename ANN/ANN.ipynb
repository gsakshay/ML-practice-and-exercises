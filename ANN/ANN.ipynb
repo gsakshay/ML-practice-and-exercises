{
  "nbformat": 4,
  "nbformat_minor": 0,
  "metadata": {
    "kernelspec": {
      "display_name": "Python 3",
      "language": "python",
      "name": "python3"
    },
    "language_info": {
      "codemirror_mode": {
        "name": "ipython",
        "version": 3
      },
      "file_extension": ".py",
      "mimetype": "text/x-python",
      "name": "python",
      "nbconvert_exporter": "python",
      "pygments_lexer": "ipython3",
      "version": "3.7.6"
    },
    "colab": {
      "name": "ANN.ipynb",
      "provenance": [],
      "toc_visible": true
    }
  },
  "cells": [
    {
      "cell_type": "markdown",
      "metadata": {
        "id": "XmvHot9G4_8f"
      },
      "source": [
        "# Artificial Neural Network"
      ]
    },
    {
      "cell_type": "markdown",
      "metadata": {
        "id": "h57zMEm__jIE"
      },
      "source": [
        "### Importing libraries and dataset"
      ]
    },
    {
      "cell_type": "code",
      "metadata": {
        "id": "yBJN-oeF4_8h"
      },
      "source": [
        "# importing libraries\n",
        "\n",
        "import pandas as pd\n",
        "import numpy as np\n",
        "import tensorflow as tf"
      ],
      "execution_count": 35,
      "outputs": []
    },
    {
      "cell_type": "code",
      "metadata": {
        "id": "vpVDI9dr4_8v",
        "outputId": "8637294d-2dcd-49ee-db3f-b17bc421f353",
        "colab": {
          "base_uri": "https://localhost:8080/"
        }
      },
      "source": [
        "# importing the dataset\n",
        "\n",
        "dataset = pd.read_csv(\"Churn_Modelling.csv\")\n",
        "X = dataset.iloc[:, 3:-1]\n",
        "y = dataset.iloc[:, -1]\n",
        "\n",
        "print(X, y)"
      ],
      "execution_count": 36,
      "outputs": [
        {
          "output_type": "stream",
          "text": [
            "      CreditScore Geography  Gender  ...  HasCrCard  IsActiveMember  EstimatedSalary\n",
            "0             619    France  Female  ...          1               1        101348.88\n",
            "1             608     Spain  Female  ...          0               1        112542.58\n",
            "2             502    France  Female  ...          1               0        113931.57\n",
            "3             699    France  Female  ...          0               0         93826.63\n",
            "4             850     Spain  Female  ...          1               1         79084.10\n",
            "...           ...       ...     ...  ...        ...             ...              ...\n",
            "9995          771    France    Male  ...          1               0         96270.64\n",
            "9996          516    France    Male  ...          1               1        101699.77\n",
            "9997          709    France  Female  ...          0               1         42085.58\n",
            "9998          772   Germany    Male  ...          1               0         92888.52\n",
            "9999          792    France  Female  ...          1               0         38190.78\n",
            "\n",
            "[10000 rows x 10 columns] 0       1\n",
            "1       0\n",
            "2       1\n",
            "3       0\n",
            "4       0\n",
            "       ..\n",
            "9995    0\n",
            "9996    0\n",
            "9997    1\n",
            "9998    1\n",
            "9999    0\n",
            "Name: Exited, Length: 10000, dtype: int64\n"
          ],
          "name": "stdout"
        }
      ]
    },
    {
      "cell_type": "markdown",
      "metadata": {
        "id": "j60bMLhr_ppz"
      },
      "source": [
        "### Encoding "
      ]
    },
    {
      "cell_type": "code",
      "metadata": {
        "id": "L89MjOHH9Vfr",
        "outputId": "e44e923e-a145-430f-d9d9-04ccd3caeaaf",
        "colab": {
          "base_uri": "https://localhost:8080/"
        }
      },
      "source": [
        "# Label Encoding the \"Gender\" column\n",
        "from sklearn.preprocessing import LabelEncoder\n",
        "le = LabelEncoder()\n",
        "X['Gender'] = le.fit_transform(X['Gender'])\n",
        "print(X.tail())"
      ],
      "execution_count": 37,
      "outputs": [
        {
          "output_type": "stream",
          "text": [
            "      CreditScore Geography  Gender  ...  HasCrCard  IsActiveMember  EstimatedSalary\n",
            "9995          771    France       1  ...          1               0         96270.64\n",
            "9996          516    France       1  ...          1               1        101699.77\n",
            "9997          709    France       0  ...          0               1         42085.58\n",
            "9998          772   Germany       1  ...          1               0         92888.52\n",
            "9999          792    France       0  ...          1               0         38190.78\n",
            "\n",
            "[5 rows x 10 columns]\n"
          ],
          "name": "stdout"
        }
      ]
    },
    {
      "cell_type": "code",
      "metadata": {
        "id": "vgS8ekE5AA7O",
        "outputId": "4a0d56bb-e3d7-452f-e1af-f54aa9ce3abb",
        "colab": {
          "base_uri": "https://localhost:8080/"
        }
      },
      "source": [
        "# One hot encoding the Geography column\n",
        "from sklearn.compose import ColumnTransformer\n",
        "from sklearn.preprocessing import OneHotEncoder\n",
        "ct = ColumnTransformer(transformers=[('encoder', OneHotEncoder(), [1])], remainder='passthrough')\n",
        "X = np.array(ct.fit_transform(X))\n",
        "print(X)"
      ],
      "execution_count": 38,
      "outputs": [
        {
          "output_type": "stream",
          "text": [
            "[[1.0000000e+00 0.0000000e+00 0.0000000e+00 ... 1.0000000e+00\n",
            "  1.0000000e+00 1.0134888e+05]\n",
            " [0.0000000e+00 0.0000000e+00 1.0000000e+00 ... 0.0000000e+00\n",
            "  1.0000000e+00 1.1254258e+05]\n",
            " [1.0000000e+00 0.0000000e+00 0.0000000e+00 ... 1.0000000e+00\n",
            "  0.0000000e+00 1.1393157e+05]\n",
            " ...\n",
            " [1.0000000e+00 0.0000000e+00 0.0000000e+00 ... 0.0000000e+00\n",
            "  1.0000000e+00 4.2085580e+04]\n",
            " [0.0000000e+00 1.0000000e+00 0.0000000e+00 ... 1.0000000e+00\n",
            "  0.0000000e+00 9.2888520e+04]\n",
            " [1.0000000e+00 0.0000000e+00 0.0000000e+00 ... 1.0000000e+00\n",
            "  0.0000000e+00 3.8190780e+04]]\n"
          ],
          "name": "stdout"
        }
      ]
    },
    {
      "cell_type": "markdown",
      "metadata": {
        "id": "t2KddpZOCLIi"
      },
      "source": [
        "### Splitting the dataset "
      ]
    },
    {
      "cell_type": "code",
      "metadata": {
        "id": "pC1LthxMCPWQ"
      },
      "source": [
        "from sklearn.model_selection import train_test_split\n",
        "X_train, X_test, y_train, y_test = train_test_split(X, y, test_size = 0.2, random_state = 0)"
      ],
      "execution_count": 39,
      "outputs": []
    },
    {
      "cell_type": "markdown",
      "metadata": {
        "id": "WzXAqT8XCGJD"
      },
      "source": [
        "### Feature scaling"
      ]
    },
    {
      "cell_type": "code",
      "metadata": {
        "id": "_K0bj1t0BnMT"
      },
      "source": [
        "from sklearn.preprocessing import StandardScaler\n",
        "sc = StandardScaler()\n",
        "X_train = sc.fit_transform(X_train)\n",
        "X_test = sc.transform(X_test)"
      ],
      "execution_count": 40,
      "outputs": []
    },
    {
      "cell_type": "markdown",
      "metadata": {
        "id": "i0EyAOfQCZ-l"
      },
      "source": [
        "### Building ANN"
      ]
    },
    {
      "cell_type": "code",
      "metadata": {
        "id": "Epd64E4PCXWp"
      },
      "source": [
        "# initializing ANN\n",
        "ann = tf.keras.models.Sequential()\n",
        "\n",
        "# Adding input layer and first hidden layer\n",
        "ann.add(tf.keras.layers.Dense(units=6, activation='relu'))\n",
        "\n",
        "# Adding second hidden layer\n",
        "ann.add(tf.keras.layers.Dense(units=6, activation='relu'))\n",
        "\n",
        "# Adding output layer\n",
        "ann.add(tf.keras.layers.Dense(units=1, activation='sigmoid'))"
      ],
      "execution_count": 41,
      "outputs": []
    },
    {
      "cell_type": "markdown",
      "metadata": {
        "id": "eA0pWzO8Oorp"
      },
      "source": [
        "### Training "
      ]
    },
    {
      "cell_type": "markdown",
      "metadata": {
        "id": "a7qtA3_sOcNf"
      },
      "source": [
        "#### Compiling ANN"
      ]
    },
    {
      "cell_type": "code",
      "metadata": {
        "id": "5H-OzdqLOb0K"
      },
      "source": [
        "ann.compile(optimizer = 'adam', loss = 'binary_crossentropy', metrics = ['accuracy'])"
      ],
      "execution_count": 42,
      "outputs": []
    },
    {
      "cell_type": "markdown",
      "metadata": {
        "id": "XdbwpPUjOwmB"
      },
      "source": [
        "#### Training on the training set"
      ]
    },
    {
      "cell_type": "code",
      "metadata": {
        "id": "J9MPxOnEMHS_",
        "outputId": "e0db08af-b7ce-4024-88f0-7dbb2ebf166f",
        "colab": {
          "base_uri": "https://localhost:8080/"
        }
      },
      "source": [
        "ann.fit(X_train, y_train, batch_size = 32, epochs = 100)"
      ],
      "execution_count": 43,
      "outputs": [
        {
          "output_type": "stream",
          "text": [
            "Epoch 1/100\n",
            "250/250 [==============================] - 0s 1ms/step - loss: 0.6786 - accuracy: 0.5914\n",
            "Epoch 2/100\n",
            "250/250 [==============================] - 0s 1ms/step - loss: 0.4884 - accuracy: 0.7954\n",
            "Epoch 3/100\n",
            "250/250 [==============================] - 0s 1ms/step - loss: 0.4469 - accuracy: 0.8009\n",
            "Epoch 4/100\n",
            "250/250 [==============================] - 0s 946us/step - loss: 0.4264 - accuracy: 0.8120\n",
            "Epoch 5/100\n",
            "250/250 [==============================] - 0s 963us/step - loss: 0.4101 - accuracy: 0.8223\n",
            "Epoch 6/100\n",
            "250/250 [==============================] - 0s 904us/step - loss: 0.3945 - accuracy: 0.8334\n",
            "Epoch 7/100\n",
            "250/250 [==============================] - 0s 1ms/step - loss: 0.3816 - accuracy: 0.8381\n",
            "Epoch 8/100\n",
            "250/250 [==============================] - 0s 1ms/step - loss: 0.3725 - accuracy: 0.8424\n",
            "Epoch 9/100\n",
            "250/250 [==============================] - 0s 1ms/step - loss: 0.3668 - accuracy: 0.8440\n",
            "Epoch 10/100\n",
            "250/250 [==============================] - 0s 1ms/step - loss: 0.3636 - accuracy: 0.8449\n",
            "Epoch 11/100\n",
            "250/250 [==============================] - 0s 1ms/step - loss: 0.3611 - accuracy: 0.8470\n",
            "Epoch 12/100\n",
            "250/250 [==============================] - 0s 1ms/step - loss: 0.3597 - accuracy: 0.8478\n",
            "Epoch 13/100\n",
            "250/250 [==============================] - 0s 1ms/step - loss: 0.3583 - accuracy: 0.8493\n",
            "Epoch 14/100\n",
            "250/250 [==============================] - 0s 1ms/step - loss: 0.3566 - accuracy: 0.8497\n",
            "Epoch 15/100\n",
            "250/250 [==============================] - 0s 1ms/step - loss: 0.3557 - accuracy: 0.8504\n",
            "Epoch 16/100\n",
            "250/250 [==============================] - 0s 1ms/step - loss: 0.3546 - accuracy: 0.8514\n",
            "Epoch 17/100\n",
            "250/250 [==============================] - 0s 1ms/step - loss: 0.3539 - accuracy: 0.8515\n",
            "Epoch 18/100\n",
            "250/250 [==============================] - 0s 1ms/step - loss: 0.3530 - accuracy: 0.8530\n",
            "Epoch 19/100\n",
            "250/250 [==============================] - 0s 1ms/step - loss: 0.3519 - accuracy: 0.8544\n",
            "Epoch 20/100\n",
            "250/250 [==============================] - 0s 1ms/step - loss: 0.3514 - accuracy: 0.8510\n",
            "Epoch 21/100\n",
            "250/250 [==============================] - 0s 1ms/step - loss: 0.3504 - accuracy: 0.8550\n",
            "Epoch 22/100\n",
            "250/250 [==============================] - 0s 1ms/step - loss: 0.3499 - accuracy: 0.8543\n",
            "Epoch 23/100\n",
            "250/250 [==============================] - 0s 1ms/step - loss: 0.3488 - accuracy: 0.8547\n",
            "Epoch 24/100\n",
            "250/250 [==============================] - 0s 1ms/step - loss: 0.3482 - accuracy: 0.8541\n",
            "Epoch 25/100\n",
            "250/250 [==============================] - 0s 1ms/step - loss: 0.3478 - accuracy: 0.8556\n",
            "Epoch 26/100\n",
            "250/250 [==============================] - 0s 1ms/step - loss: 0.3464 - accuracy: 0.8561\n",
            "Epoch 27/100\n",
            "250/250 [==============================] - 0s 1ms/step - loss: 0.3463 - accuracy: 0.8569\n",
            "Epoch 28/100\n",
            "250/250 [==============================] - 0s 1ms/step - loss: 0.3456 - accuracy: 0.8559\n",
            "Epoch 29/100\n",
            "250/250 [==============================] - 0s 1ms/step - loss: 0.3452 - accuracy: 0.8591\n",
            "Epoch 30/100\n",
            "250/250 [==============================] - 0s 1ms/step - loss: 0.3447 - accuracy: 0.8561\n",
            "Epoch 31/100\n",
            "250/250 [==============================] - 0s 1ms/step - loss: 0.3445 - accuracy: 0.8571\n",
            "Epoch 32/100\n",
            "250/250 [==============================] - 0s 1ms/step - loss: 0.3437 - accuracy: 0.8576\n",
            "Epoch 33/100\n",
            "250/250 [==============================] - 0s 1ms/step - loss: 0.3434 - accuracy: 0.8589\n",
            "Epoch 34/100\n",
            "250/250 [==============================] - 0s 1ms/step - loss: 0.3430 - accuracy: 0.8584\n",
            "Epoch 35/100\n",
            "250/250 [==============================] - 0s 1ms/step - loss: 0.3423 - accuracy: 0.8604\n",
            "Epoch 36/100\n",
            "250/250 [==============================] - 0s 1ms/step - loss: 0.3419 - accuracy: 0.8593\n",
            "Epoch 37/100\n",
            "250/250 [==============================] - 0s 1ms/step - loss: 0.3414 - accuracy: 0.8593\n",
            "Epoch 38/100\n",
            "250/250 [==============================] - 0s 1ms/step - loss: 0.3412 - accuracy: 0.8605\n",
            "Epoch 39/100\n",
            "250/250 [==============================] - 0s 1ms/step - loss: 0.3405 - accuracy: 0.8599\n",
            "Epoch 40/100\n",
            "250/250 [==============================] - 0s 1ms/step - loss: 0.3402 - accuracy: 0.8614\n",
            "Epoch 41/100\n",
            "250/250 [==============================] - 0s 1ms/step - loss: 0.3397 - accuracy: 0.8610\n",
            "Epoch 42/100\n",
            "250/250 [==============================] - 0s 1ms/step - loss: 0.3396 - accuracy: 0.8620\n",
            "Epoch 43/100\n",
            "250/250 [==============================] - 0s 988us/step - loss: 0.3391 - accuracy: 0.8610\n",
            "Epoch 44/100\n",
            "250/250 [==============================] - 0s 967us/step - loss: 0.3388 - accuracy: 0.8620\n",
            "Epoch 45/100\n",
            "250/250 [==============================] - 0s 911us/step - loss: 0.3389 - accuracy: 0.8606\n",
            "Epoch 46/100\n",
            "250/250 [==============================] - 0s 914us/step - loss: 0.3384 - accuracy: 0.8606\n",
            "Epoch 47/100\n",
            "250/250 [==============================] - 0s 991us/step - loss: 0.3383 - accuracy: 0.8605\n",
            "Epoch 48/100\n",
            "250/250 [==============================] - 0s 947us/step - loss: 0.3378 - accuracy: 0.8625\n",
            "Epoch 49/100\n",
            "250/250 [==============================] - 0s 906us/step - loss: 0.3379 - accuracy: 0.8611\n",
            "Epoch 50/100\n",
            "250/250 [==============================] - 0s 928us/step - loss: 0.3374 - accuracy: 0.8620\n",
            "Epoch 51/100\n",
            "250/250 [==============================] - 0s 914us/step - loss: 0.3376 - accuracy: 0.8596\n",
            "Epoch 52/100\n",
            "250/250 [==============================] - 0s 963us/step - loss: 0.3373 - accuracy: 0.8620\n",
            "Epoch 53/100\n",
            "250/250 [==============================] - 0s 945us/step - loss: 0.3371 - accuracy: 0.8618\n",
            "Epoch 54/100\n",
            "250/250 [==============================] - 0s 883us/step - loss: 0.3372 - accuracy: 0.8625\n",
            "Epoch 55/100\n",
            "250/250 [==============================] - 0s 899us/step - loss: 0.3368 - accuracy: 0.8634\n",
            "Epoch 56/100\n",
            "250/250 [==============================] - 0s 1ms/step - loss: 0.3364 - accuracy: 0.8611\n",
            "Epoch 57/100\n",
            "250/250 [==============================] - 0s 910us/step - loss: 0.3367 - accuracy: 0.8618\n",
            "Epoch 58/100\n",
            "250/250 [==============================] - 0s 892us/step - loss: 0.3367 - accuracy: 0.8614\n",
            "Epoch 59/100\n",
            "250/250 [==============================] - 0s 912us/step - loss: 0.3359 - accuracy: 0.8631\n",
            "Epoch 60/100\n",
            "250/250 [==============================] - 0s 945us/step - loss: 0.3360 - accuracy: 0.8600\n",
            "Epoch 61/100\n",
            "250/250 [==============================] - 0s 923us/step - loss: 0.3359 - accuracy: 0.8630\n",
            "Epoch 62/100\n",
            "250/250 [==============================] - 0s 962us/step - loss: 0.3356 - accuracy: 0.8621\n",
            "Epoch 63/100\n",
            "250/250 [==============================] - 0s 904us/step - loss: 0.3353 - accuracy: 0.8629\n",
            "Epoch 64/100\n",
            "250/250 [==============================] - 0s 917us/step - loss: 0.3350 - accuracy: 0.8625\n",
            "Epoch 65/100\n",
            "250/250 [==============================] - 0s 1ms/step - loss: 0.3353 - accuracy: 0.8640\n",
            "Epoch 66/100\n",
            "250/250 [==============================] - 0s 910us/step - loss: 0.3352 - accuracy: 0.8624\n",
            "Epoch 67/100\n",
            "250/250 [==============================] - 0s 960us/step - loss: 0.3348 - accuracy: 0.8624\n",
            "Epoch 68/100\n",
            "250/250 [==============================] - 0s 939us/step - loss: 0.3344 - accuracy: 0.8626\n",
            "Epoch 69/100\n",
            "250/250 [==============================] - 0s 989us/step - loss: 0.3346 - accuracy: 0.8616\n",
            "Epoch 70/100\n",
            "250/250 [==============================] - 0s 919us/step - loss: 0.3347 - accuracy: 0.8626\n",
            "Epoch 71/100\n",
            "250/250 [==============================] - 0s 974us/step - loss: 0.3344 - accuracy: 0.8627\n",
            "Epoch 72/100\n",
            "250/250 [==============================] - 0s 940us/step - loss: 0.3342 - accuracy: 0.8639\n",
            "Epoch 73/100\n",
            "250/250 [==============================] - 0s 960us/step - loss: 0.3342 - accuracy: 0.8634\n",
            "Epoch 74/100\n",
            "250/250 [==============================] - 0s 959us/step - loss: 0.3337 - accuracy: 0.8635\n",
            "Epoch 75/100\n",
            "250/250 [==============================] - 0s 935us/step - loss: 0.3342 - accuracy: 0.8625\n",
            "Epoch 76/100\n",
            "250/250 [==============================] - 0s 954us/step - loss: 0.3337 - accuracy: 0.8627\n",
            "Epoch 77/100\n",
            "250/250 [==============================] - 0s 980us/step - loss: 0.3338 - accuracy: 0.8643\n",
            "Epoch 78/100\n",
            "250/250 [==============================] - 0s 923us/step - loss: 0.3338 - accuracy: 0.8620\n",
            "Epoch 79/100\n",
            "250/250 [==============================] - 0s 925us/step - loss: 0.3336 - accuracy: 0.8629\n",
            "Epoch 80/100\n",
            "250/250 [==============================] - 0s 975us/step - loss: 0.3337 - accuracy: 0.8640\n",
            "Epoch 81/100\n",
            "250/250 [==============================] - 0s 979us/step - loss: 0.3332 - accuracy: 0.8636\n",
            "Epoch 82/100\n",
            "250/250 [==============================] - 0s 917us/step - loss: 0.3337 - accuracy: 0.8650\n",
            "Epoch 83/100\n",
            "250/250 [==============================] - 0s 994us/step - loss: 0.3331 - accuracy: 0.8636\n",
            "Epoch 84/100\n",
            "250/250 [==============================] - 0s 898us/step - loss: 0.3328 - accuracy: 0.8637\n",
            "Epoch 85/100\n",
            "250/250 [==============================] - 0s 958us/step - loss: 0.3336 - accuracy: 0.8630\n",
            "Epoch 86/100\n",
            "250/250 [==============================] - 0s 1000us/step - loss: 0.3331 - accuracy: 0.8633\n",
            "Epoch 87/100\n",
            "250/250 [==============================] - 0s 959us/step - loss: 0.3335 - accuracy: 0.8637\n",
            "Epoch 88/100\n",
            "250/250 [==============================] - 0s 933us/step - loss: 0.3330 - accuracy: 0.8639\n",
            "Epoch 89/100\n",
            "250/250 [==============================] - 0s 937us/step - loss: 0.3326 - accuracy: 0.8637\n",
            "Epoch 90/100\n",
            "250/250 [==============================] - 0s 992us/step - loss: 0.3326 - accuracy: 0.8644\n",
            "Epoch 91/100\n",
            "250/250 [==============================] - 0s 954us/step - loss: 0.3330 - accuracy: 0.8634\n",
            "Epoch 92/100\n",
            "250/250 [==============================] - 0s 915us/step - loss: 0.3325 - accuracy: 0.8640\n",
            "Epoch 93/100\n",
            "250/250 [==============================] - 0s 984us/step - loss: 0.3325 - accuracy: 0.8644\n",
            "Epoch 94/100\n",
            "250/250 [==============================] - 0s 982us/step - loss: 0.3324 - accuracy: 0.8644\n",
            "Epoch 95/100\n",
            "250/250 [==============================] - 0s 934us/step - loss: 0.3322 - accuracy: 0.8655\n",
            "Epoch 96/100\n",
            "250/250 [==============================] - 0s 956us/step - loss: 0.3322 - accuracy: 0.8643\n",
            "Epoch 97/100\n",
            "250/250 [==============================] - 0s 934us/step - loss: 0.3321 - accuracy: 0.8650\n",
            "Epoch 98/100\n",
            "250/250 [==============================] - 0s 958us/step - loss: 0.3324 - accuracy: 0.8643\n",
            "Epoch 99/100\n",
            "250/250 [==============================] - 0s 946us/step - loss: 0.3323 - accuracy: 0.8650\n",
            "Epoch 100/100\n",
            "250/250 [==============================] - 0s 960us/step - loss: 0.3320 - accuracy: 0.8651\n"
          ],
          "name": "stdout"
        },
        {
          "output_type": "execute_result",
          "data": {
            "text/plain": [
              "<tensorflow.python.keras.callbacks.History at 0x7fec6e90b780>"
            ]
          },
          "metadata": {
            "tags": []
          },
          "execution_count": 43
        }
      ]
    },
    {
      "cell_type": "markdown",
      "metadata": {
        "id": "hUeDeOtHP9WO"
      },
      "source": [
        "#### Prediction the test result to a single observation"
      ]
    },
    {
      "cell_type": "markdown",
      "metadata": {
        "id": "YTWf4Z0NQUtx"
      },
      "source": [
        "For this data:\n",
        "\n",
        "Geography: France\n",
        "\n",
        "Credit Score: 600\n",
        "\n",
        "Gender: Male\n",
        "\n",
        "Age: 40 years old\n",
        "\n",
        "Tenure: 3 years\n",
        "\n",
        "Balance: \\$ 60000\n",
        "\n",
        "Number of Products: 2\n",
        "\n",
        "Does this customer have a credit card? Yes\n",
        "\n",
        "Is this customer an Active Member: Yes\n",
        "\n",
        "Estimated Salary: \\$ 50000"
      ]
    },
    {
      "cell_type": "code",
      "metadata": {
        "id": "m3QnLx2bO4LM",
        "outputId": "2efbb120-50a0-48a9-9027-65b6c51a03f2",
        "colab": {
          "base_uri": "https://localhost:8080/"
        }
      },
      "source": [
        "print(ann.predict(sc.transform([[1, 0, 0, 600, 1, 40, 3, 60000, 2, 1, 1, 50000]])) > 0.5)"
      ],
      "execution_count": 44,
      "outputs": [
        {
          "output_type": "stream",
          "text": [
            "[[False]]\n"
          ],
          "name": "stdout"
        }
      ]
    },
    {
      "cell_type": "markdown",
      "metadata": {
        "id": "8cLeXk6SSXZj"
      },
      "source": [
        "### Prediction"
      ]
    },
    {
      "cell_type": "code",
      "metadata": {
        "id": "cO0uQa-7RGLl",
        "outputId": "a18364b5-3c0b-42c1-bfa7-30ec5a2e02e3",
        "colab": {
          "base_uri": "https://localhost:8080/"
        }
      },
      "source": [
        "y_pred = ann.predict(X_test)\n",
        "y_pred = (y_pred > 0.5)\n",
        "print(y_pred)"
      ],
      "execution_count": 49,
      "outputs": [
        {
          "output_type": "stream",
          "text": [
            "[[False]\n",
            " [False]\n",
            " [False]\n",
            " ...\n",
            " [False]\n",
            " [False]\n",
            " [False]]\n"
          ],
          "name": "stdout"
        }
      ]
    },
    {
      "cell_type": "markdown",
      "metadata": {
        "id": "r1oIE82JS1FV"
      },
      "source": [
        "Making the Confusion Matrix"
      ]
    },
    {
      "cell_type": "code",
      "metadata": {
        "id": "EaOUQaCwSWMe",
        "outputId": "9672c468-6a6c-4c0b-a53b-7b465d690583",
        "colab": {
          "base_uri": "https://localhost:8080/"
        }
      },
      "source": [
        "from sklearn.metrics import confusion_matrix, accuracy_score\n",
        "cm = confusion_matrix(y_test, y_pred)\n",
        "print(cm)\n",
        "accuracy_score(y_test, y_pred)"
      ],
      "execution_count": 50,
      "outputs": [
        {
          "output_type": "stream",
          "text": [
            "[[1522   73]\n",
            " [ 203  202]]\n"
          ],
          "name": "stdout"
        },
        {
          "output_type": "execute_result",
          "data": {
            "text/plain": [
              "0.862"
            ]
          },
          "metadata": {
            "tags": []
          },
          "execution_count": 50
        }
      ]
    }
  ]
}